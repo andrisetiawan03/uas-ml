{
  "nbformat": 4,
  "nbformat_minor": 0,
  "metadata": {
    "colab": {
      "provenance": [],
      "collapsed_sections": [
        "kmVhUpctn53Q",
        "-YP6BgMroRKW",
        "kc-tu-lGolWB",
        "CQB7iLj7pCia",
        "dR_pkJFfpkVL",
        "NiE9EBMlp1k4",
        "D3O6NAxqqPz_",
        "Mrc-UA4lqfPl"
      ]
    },
    "kernelspec": {
      "name": "python3",
      "display_name": "Python 3"
    },
    "language_info": {
      "name": "python"
    }
  },
  "cells": [
    {
      "cell_type": "markdown",
      "source": [
        "Nama : Andri Setiawan <br>\n",
        "NIM : 211351018<br>\n",
        "Kelas : IF Malam B"
      ],
      "metadata": {
        "id": "V0JYjJu2no69"
      }
    },
    {
      "cell_type": "markdown",
      "source": [
        "# import Dataset"
      ],
      "metadata": {
        "id": "kmVhUpctn53Q"
      }
    },
    {
      "cell_type": "code",
      "source": [
        "from google.colab import files\n",
        "files.upload()"
      ],
      "metadata": {
        "id": "kZkUiKI5oMHu",
        "colab": {
          "base_uri": "https://localhost:8080/",
          "height": 90
        },
        "outputId": "5776af5f-cf97-46b5-f42b-4d2ea412c83b"
      },
      "execution_count": 1,
      "outputs": [
        {
          "output_type": "display_data",
          "data": {
            "text/plain": [
              "<IPython.core.display.HTML object>"
            ],
            "text/html": [
              "\n",
              "     <input type=\"file\" id=\"files-78dc58e2-bebb-4e3e-aecf-f843c210f890\" name=\"files[]\" multiple disabled\n",
              "        style=\"border:none\" />\n",
              "     <output id=\"result-78dc58e2-bebb-4e3e-aecf-f843c210f890\">\n",
              "      Upload widget is only available when the cell has been executed in the\n",
              "      current browser session. Please rerun this cell to enable.\n",
              "      </output>\n",
              "      <script>// Copyright 2017 Google LLC\n",
              "//\n",
              "// Licensed under the Apache License, Version 2.0 (the \"License\");\n",
              "// you may not use this file except in compliance with the License.\n",
              "// You may obtain a copy of the License at\n",
              "//\n",
              "//      http://www.apache.org/licenses/LICENSE-2.0\n",
              "//\n",
              "// Unless required by applicable law or agreed to in writing, software\n",
              "// distributed under the License is distributed on an \"AS IS\" BASIS,\n",
              "// WITHOUT WARRANTIES OR CONDITIONS OF ANY KIND, either express or implied.\n",
              "// See the License for the specific language governing permissions and\n",
              "// limitations under the License.\n",
              "\n",
              "/**\n",
              " * @fileoverview Helpers for google.colab Python module.\n",
              " */\n",
              "(function(scope) {\n",
              "function span(text, styleAttributes = {}) {\n",
              "  const element = document.createElement('span');\n",
              "  element.textContent = text;\n",
              "  for (const key of Object.keys(styleAttributes)) {\n",
              "    element.style[key] = styleAttributes[key];\n",
              "  }\n",
              "  return element;\n",
              "}\n",
              "\n",
              "// Max number of bytes which will be uploaded at a time.\n",
              "const MAX_PAYLOAD_SIZE = 100 * 1024;\n",
              "\n",
              "function _uploadFiles(inputId, outputId) {\n",
              "  const steps = uploadFilesStep(inputId, outputId);\n",
              "  const outputElement = document.getElementById(outputId);\n",
              "  // Cache steps on the outputElement to make it available for the next call\n",
              "  // to uploadFilesContinue from Python.\n",
              "  outputElement.steps = steps;\n",
              "\n",
              "  return _uploadFilesContinue(outputId);\n",
              "}\n",
              "\n",
              "// This is roughly an async generator (not supported in the browser yet),\n",
              "// where there are multiple asynchronous steps and the Python side is going\n",
              "// to poll for completion of each step.\n",
              "// This uses a Promise to block the python side on completion of each step,\n",
              "// then passes the result of the previous step as the input to the next step.\n",
              "function _uploadFilesContinue(outputId) {\n",
              "  const outputElement = document.getElementById(outputId);\n",
              "  const steps = outputElement.steps;\n",
              "\n",
              "  const next = steps.next(outputElement.lastPromiseValue);\n",
              "  return Promise.resolve(next.value.promise).then((value) => {\n",
              "    // Cache the last promise value to make it available to the next\n",
              "    // step of the generator.\n",
              "    outputElement.lastPromiseValue = value;\n",
              "    return next.value.response;\n",
              "  });\n",
              "}\n",
              "\n",
              "/**\n",
              " * Generator function which is called between each async step of the upload\n",
              " * process.\n",
              " * @param {string} inputId Element ID of the input file picker element.\n",
              " * @param {string} outputId Element ID of the output display.\n",
              " * @return {!Iterable<!Object>} Iterable of next steps.\n",
              " */\n",
              "function* uploadFilesStep(inputId, outputId) {\n",
              "  const inputElement = document.getElementById(inputId);\n",
              "  inputElement.disabled = false;\n",
              "\n",
              "  const outputElement = document.getElementById(outputId);\n",
              "  outputElement.innerHTML = '';\n",
              "\n",
              "  const pickedPromise = new Promise((resolve) => {\n",
              "    inputElement.addEventListener('change', (e) => {\n",
              "      resolve(e.target.files);\n",
              "    });\n",
              "  });\n",
              "\n",
              "  const cancel = document.createElement('button');\n",
              "  inputElement.parentElement.appendChild(cancel);\n",
              "  cancel.textContent = 'Cancel upload';\n",
              "  const cancelPromise = new Promise((resolve) => {\n",
              "    cancel.onclick = () => {\n",
              "      resolve(null);\n",
              "    };\n",
              "  });\n",
              "\n",
              "  // Wait for the user to pick the files.\n",
              "  const files = yield {\n",
              "    promise: Promise.race([pickedPromise, cancelPromise]),\n",
              "    response: {\n",
              "      action: 'starting',\n",
              "    }\n",
              "  };\n",
              "\n",
              "  cancel.remove();\n",
              "\n",
              "  // Disable the input element since further picks are not allowed.\n",
              "  inputElement.disabled = true;\n",
              "\n",
              "  if (!files) {\n",
              "    return {\n",
              "      response: {\n",
              "        action: 'complete',\n",
              "      }\n",
              "    };\n",
              "  }\n",
              "\n",
              "  for (const file of files) {\n",
              "    const li = document.createElement('li');\n",
              "    li.append(span(file.name, {fontWeight: 'bold'}));\n",
              "    li.append(span(\n",
              "        `(${file.type || 'n/a'}) - ${file.size} bytes, ` +\n",
              "        `last modified: ${\n",
              "            file.lastModifiedDate ? file.lastModifiedDate.toLocaleDateString() :\n",
              "                                    'n/a'} - `));\n",
              "    const percent = span('0% done');\n",
              "    li.appendChild(percent);\n",
              "\n",
              "    outputElement.appendChild(li);\n",
              "\n",
              "    const fileDataPromise = new Promise((resolve) => {\n",
              "      const reader = new FileReader();\n",
              "      reader.onload = (e) => {\n",
              "        resolve(e.target.result);\n",
              "      };\n",
              "      reader.readAsArrayBuffer(file);\n",
              "    });\n",
              "    // Wait for the data to be ready.\n",
              "    let fileData = yield {\n",
              "      promise: fileDataPromise,\n",
              "      response: {\n",
              "        action: 'continue',\n",
              "      }\n",
              "    };\n",
              "\n",
              "    // Use a chunked sending to avoid message size limits. See b/62115660.\n",
              "    let position = 0;\n",
              "    do {\n",
              "      const length = Math.min(fileData.byteLength - position, MAX_PAYLOAD_SIZE);\n",
              "      const chunk = new Uint8Array(fileData, position, length);\n",
              "      position += length;\n",
              "\n",
              "      const base64 = btoa(String.fromCharCode.apply(null, chunk));\n",
              "      yield {\n",
              "        response: {\n",
              "          action: 'append',\n",
              "          file: file.name,\n",
              "          data: base64,\n",
              "        },\n",
              "      };\n",
              "\n",
              "      let percentDone = fileData.byteLength === 0 ?\n",
              "          100 :\n",
              "          Math.round((position / fileData.byteLength) * 100);\n",
              "      percent.textContent = `${percentDone}% done`;\n",
              "\n",
              "    } while (position < fileData.byteLength);\n",
              "  }\n",
              "\n",
              "  // All done.\n",
              "  yield {\n",
              "    response: {\n",
              "      action: 'complete',\n",
              "    }\n",
              "  };\n",
              "}\n",
              "\n",
              "scope.google = scope.google || {};\n",
              "scope.google.colab = scope.google.colab || {};\n",
              "scope.google.colab._files = {\n",
              "  _uploadFiles,\n",
              "  _uploadFilesContinue,\n",
              "};\n",
              "})(self);\n",
              "</script> "
            ]
          },
          "metadata": {}
        },
        {
          "output_type": "stream",
          "name": "stdout",
          "text": [
            "Saving kaggle.json to kaggle.json\n"
          ]
        },
        {
          "output_type": "execute_result",
          "data": {
            "text/plain": [
              "{'kaggle.json': b'{\"username\":\"andrisetiawan01\",\"key\":\"5a5a85c20ec4ccae72a2bedd43435b76\"}'}"
            ]
          },
          "metadata": {},
          "execution_count": 1
        }
      ]
    },
    {
      "cell_type": "code",
      "source": [
        "!mkdir -p ~/.kaggle\n",
        "!cp kaggle.json ~/.kaggle/\n",
        "!chmod 600 ~/.kaggle/kaggle.json\n",
        "!ls ~/.kaggle"
      ],
      "metadata": {
        "id": "_uz978sBoNva",
        "colab": {
          "base_uri": "https://localhost:8080/"
        },
        "outputId": "737465ab-37b9-4588-d1f8-3d769565e93f"
      },
      "execution_count": 2,
      "outputs": [
        {
          "output_type": "stream",
          "name": "stdout",
          "text": [
            "kaggle.json\n"
          ]
        }
      ]
    },
    {
      "cell_type": "code",
      "source": [
        "!kaggle datasets download -d irfanasrullah/groceries"
      ],
      "metadata": {
        "id": "DWLXgY79oOl7",
        "colab": {
          "base_uri": "https://localhost:8080/"
        },
        "outputId": "38dcc944-2a93-4e67-ca9d-972c5141a914"
      },
      "execution_count": 3,
      "outputs": [
        {
          "output_type": "stream",
          "name": "stdout",
          "text": [
            "Downloading groceries.zip to /content\n",
            "100% 168k/168k [00:00<00:00, 483kB/s]\n",
            "100% 168k/168k [00:00<00:00, 483kB/s]\n"
          ]
        }
      ]
    },
    {
      "cell_type": "code",
      "source": [
        "!mkdir groceries\n",
        "!unzip groceries.zip -d groceries\n",
        "!ls groceries"
      ],
      "metadata": {
        "colab": {
          "base_uri": "https://localhost:8080/"
        },
        "id": "BKA-VosZNf5f",
        "outputId": "ccbc1372-34cd-4c46-804b-8c7d914b2089"
      },
      "execution_count": 4,
      "outputs": [
        {
          "output_type": "stream",
          "name": "stdout",
          "text": [
            "Archive:  groceries.zip\n",
            "  inflating: groceries/groceries - groceries.csv  \n",
            "  inflating: groceries/groceries.csv  \n",
            " groceries.csv\t'groceries - groceries.csv'\n"
          ]
        }
      ]
    },
    {
      "cell_type": "markdown",
      "source": [
        "# import library yang digunakan"
      ],
      "metadata": {
        "id": "-YP6BgMroRKW"
      }
    },
    {
      "cell_type": "code",
      "source": [
        "import pandas as pd\n",
        "import numpy as np\n",
        "import matplotlib.pyplot as plt\n",
        "import seaborn as sns\n",
        "from mlxtend.preprocessing import TransactionEncoder\n",
        "from mlxtend.frequent_patterns import apriori, association_rules"
      ],
      "metadata": {
        "colab": {
          "base_uri": "https://localhost:8080/"
        },
        "id": "2Ha1m-n4odLW",
        "outputId": "6361532e-700d-456b-fd33-5fe1bd38765e"
      },
      "execution_count": 21,
      "outputs": [
        {
          "output_type": "stream",
          "name": "stderr",
          "text": [
            "/usr/local/lib/python3.10/dist-packages/ipykernel/ipkernel.py:283: DeprecationWarning: `should_run_async` will not call `transform_cell` automatically in the future. Please pass the result to `transformed_cell` argument and any exception that happen during thetransform in `preprocessing_exc_tuple` in IPython 7.17 and above.\n",
            "  and should_run_async(code)\n"
          ]
        }
      ]
    },
    {
      "cell_type": "markdown",
      "source": [
        "# Data Discovery"
      ],
      "metadata": {
        "id": "kc-tu-lGolWB"
      }
    },
    {
      "cell_type": "code",
      "source": [
        "df = pd.read_csv(\"/content/groceries/groceries - groceries.csv\")"
      ],
      "metadata": {
        "id": "rBVuOgB8oe20",
        "colab": {
          "base_uri": "https://localhost:8080/"
        },
        "outputId": "efa51c76-e1c8-4bc2-9733-f71973470b68"
      },
      "execution_count": 7,
      "outputs": [
        {
          "output_type": "stream",
          "name": "stderr",
          "text": [
            "/usr/local/lib/python3.10/dist-packages/ipykernel/ipkernel.py:283: DeprecationWarning: `should_run_async` will not call `transform_cell` automatically in the future. Please pass the result to `transformed_cell` argument and any exception that happen during thetransform in `preprocessing_exc_tuple` in IPython 7.17 and above.\n",
            "  and should_run_async(code)\n"
          ]
        }
      ]
    },
    {
      "cell_type": "code",
      "source": [
        "df.head()"
      ],
      "metadata": {
        "id": "l-pOCIbpo2uj",
        "colab": {
          "base_uri": "https://localhost:8080/",
          "height": 411
        },
        "outputId": "7be135ee-04cc-4076-8bd0-7dca9eb88c0b"
      },
      "execution_count": 8,
      "outputs": [
        {
          "output_type": "stream",
          "name": "stderr",
          "text": [
            "/usr/local/lib/python3.10/dist-packages/ipykernel/ipkernel.py:283: DeprecationWarning: `should_run_async` will not call `transform_cell` automatically in the future. Please pass the result to `transformed_cell` argument and any exception that happen during thetransform in `preprocessing_exc_tuple` in IPython 7.17 and above.\n",
            "  and should_run_async(code)\n"
          ]
        },
        {
          "output_type": "execute_result",
          "data": {
            "text/plain": [
              "   Item(s)            Item 1               Item 2          Item 3  \\\n",
              "0        4      citrus fruit  semi-finished bread       margarine   \n",
              "1        3    tropical fruit               yogurt          coffee   \n",
              "2        1        whole milk                  NaN             NaN   \n",
              "3        4         pip fruit               yogurt    cream cheese   \n",
              "4        4  other vegetables           whole milk  condensed milk   \n",
              "\n",
              "                     Item 4 Item 5 Item 6 Item 7 Item 8 Item 9  ... Item 23  \\\n",
              "0               ready soups    NaN    NaN    NaN    NaN    NaN  ...     NaN   \n",
              "1                       NaN    NaN    NaN    NaN    NaN    NaN  ...     NaN   \n",
              "2                       NaN    NaN    NaN    NaN    NaN    NaN  ...     NaN   \n",
              "3              meat spreads    NaN    NaN    NaN    NaN    NaN  ...     NaN   \n",
              "4  long life bakery product    NaN    NaN    NaN    NaN    NaN  ...     NaN   \n",
              "\n",
              "  Item 24 Item 25 Item 26 Item 27 Item 28 Item 29 Item 30 Item 31 Item 32  \n",
              "0     NaN     NaN     NaN     NaN     NaN     NaN     NaN     NaN     NaN  \n",
              "1     NaN     NaN     NaN     NaN     NaN     NaN     NaN     NaN     NaN  \n",
              "2     NaN     NaN     NaN     NaN     NaN     NaN     NaN     NaN     NaN  \n",
              "3     NaN     NaN     NaN     NaN     NaN     NaN     NaN     NaN     NaN  \n",
              "4     NaN     NaN     NaN     NaN     NaN     NaN     NaN     NaN     NaN  \n",
              "\n",
              "[5 rows x 33 columns]"
            ],
            "text/html": [
              "\n",
              "  <div id=\"df-8edc2ebf-7d3f-4e8b-b540-25742118f269\" class=\"colab-df-container\">\n",
              "    <div>\n",
              "<style scoped>\n",
              "    .dataframe tbody tr th:only-of-type {\n",
              "        vertical-align: middle;\n",
              "    }\n",
              "\n",
              "    .dataframe tbody tr th {\n",
              "        vertical-align: top;\n",
              "    }\n",
              "\n",
              "    .dataframe thead th {\n",
              "        text-align: right;\n",
              "    }\n",
              "</style>\n",
              "<table border=\"1\" class=\"dataframe\">\n",
              "  <thead>\n",
              "    <tr style=\"text-align: right;\">\n",
              "      <th></th>\n",
              "      <th>Item(s)</th>\n",
              "      <th>Item 1</th>\n",
              "      <th>Item 2</th>\n",
              "      <th>Item 3</th>\n",
              "      <th>Item 4</th>\n",
              "      <th>Item 5</th>\n",
              "      <th>Item 6</th>\n",
              "      <th>Item 7</th>\n",
              "      <th>Item 8</th>\n",
              "      <th>Item 9</th>\n",
              "      <th>...</th>\n",
              "      <th>Item 23</th>\n",
              "      <th>Item 24</th>\n",
              "      <th>Item 25</th>\n",
              "      <th>Item 26</th>\n",
              "      <th>Item 27</th>\n",
              "      <th>Item 28</th>\n",
              "      <th>Item 29</th>\n",
              "      <th>Item 30</th>\n",
              "      <th>Item 31</th>\n",
              "      <th>Item 32</th>\n",
              "    </tr>\n",
              "  </thead>\n",
              "  <tbody>\n",
              "    <tr>\n",
              "      <th>0</th>\n",
              "      <td>4</td>\n",
              "      <td>citrus fruit</td>\n",
              "      <td>semi-finished bread</td>\n",
              "      <td>margarine</td>\n",
              "      <td>ready soups</td>\n",
              "      <td>NaN</td>\n",
              "      <td>NaN</td>\n",
              "      <td>NaN</td>\n",
              "      <td>NaN</td>\n",
              "      <td>NaN</td>\n",
              "      <td>...</td>\n",
              "      <td>NaN</td>\n",
              "      <td>NaN</td>\n",
              "      <td>NaN</td>\n",
              "      <td>NaN</td>\n",
              "      <td>NaN</td>\n",
              "      <td>NaN</td>\n",
              "      <td>NaN</td>\n",
              "      <td>NaN</td>\n",
              "      <td>NaN</td>\n",
              "      <td>NaN</td>\n",
              "    </tr>\n",
              "    <tr>\n",
              "      <th>1</th>\n",
              "      <td>3</td>\n",
              "      <td>tropical fruit</td>\n",
              "      <td>yogurt</td>\n",
              "      <td>coffee</td>\n",
              "      <td>NaN</td>\n",
              "      <td>NaN</td>\n",
              "      <td>NaN</td>\n",
              "      <td>NaN</td>\n",
              "      <td>NaN</td>\n",
              "      <td>NaN</td>\n",
              "      <td>...</td>\n",
              "      <td>NaN</td>\n",
              "      <td>NaN</td>\n",
              "      <td>NaN</td>\n",
              "      <td>NaN</td>\n",
              "      <td>NaN</td>\n",
              "      <td>NaN</td>\n",
              "      <td>NaN</td>\n",
              "      <td>NaN</td>\n",
              "      <td>NaN</td>\n",
              "      <td>NaN</td>\n",
              "    </tr>\n",
              "    <tr>\n",
              "      <th>2</th>\n",
              "      <td>1</td>\n",
              "      <td>whole milk</td>\n",
              "      <td>NaN</td>\n",
              "      <td>NaN</td>\n",
              "      <td>NaN</td>\n",
              "      <td>NaN</td>\n",
              "      <td>NaN</td>\n",
              "      <td>NaN</td>\n",
              "      <td>NaN</td>\n",
              "      <td>NaN</td>\n",
              "      <td>...</td>\n",
              "      <td>NaN</td>\n",
              "      <td>NaN</td>\n",
              "      <td>NaN</td>\n",
              "      <td>NaN</td>\n",
              "      <td>NaN</td>\n",
              "      <td>NaN</td>\n",
              "      <td>NaN</td>\n",
              "      <td>NaN</td>\n",
              "      <td>NaN</td>\n",
              "      <td>NaN</td>\n",
              "    </tr>\n",
              "    <tr>\n",
              "      <th>3</th>\n",
              "      <td>4</td>\n",
              "      <td>pip fruit</td>\n",
              "      <td>yogurt</td>\n",
              "      <td>cream cheese</td>\n",
              "      <td>meat spreads</td>\n",
              "      <td>NaN</td>\n",
              "      <td>NaN</td>\n",
              "      <td>NaN</td>\n",
              "      <td>NaN</td>\n",
              "      <td>NaN</td>\n",
              "      <td>...</td>\n",
              "      <td>NaN</td>\n",
              "      <td>NaN</td>\n",
              "      <td>NaN</td>\n",
              "      <td>NaN</td>\n",
              "      <td>NaN</td>\n",
              "      <td>NaN</td>\n",
              "      <td>NaN</td>\n",
              "      <td>NaN</td>\n",
              "      <td>NaN</td>\n",
              "      <td>NaN</td>\n",
              "    </tr>\n",
              "    <tr>\n",
              "      <th>4</th>\n",
              "      <td>4</td>\n",
              "      <td>other vegetables</td>\n",
              "      <td>whole milk</td>\n",
              "      <td>condensed milk</td>\n",
              "      <td>long life bakery product</td>\n",
              "      <td>NaN</td>\n",
              "      <td>NaN</td>\n",
              "      <td>NaN</td>\n",
              "      <td>NaN</td>\n",
              "      <td>NaN</td>\n",
              "      <td>...</td>\n",
              "      <td>NaN</td>\n",
              "      <td>NaN</td>\n",
              "      <td>NaN</td>\n",
              "      <td>NaN</td>\n",
              "      <td>NaN</td>\n",
              "      <td>NaN</td>\n",
              "      <td>NaN</td>\n",
              "      <td>NaN</td>\n",
              "      <td>NaN</td>\n",
              "      <td>NaN</td>\n",
              "    </tr>\n",
              "  </tbody>\n",
              "</table>\n",
              "<p>5 rows × 33 columns</p>\n",
              "</div>\n",
              "    <div class=\"colab-df-buttons\">\n",
              "\n",
              "  <div class=\"colab-df-container\">\n",
              "    <button class=\"colab-df-convert\" onclick=\"convertToInteractive('df-8edc2ebf-7d3f-4e8b-b540-25742118f269')\"\n",
              "            title=\"Convert this dataframe to an interactive table.\"\n",
              "            style=\"display:none;\">\n",
              "\n",
              "  <svg xmlns=\"http://www.w3.org/2000/svg\" height=\"24px\" viewBox=\"0 -960 960 960\">\n",
              "    <path d=\"M120-120v-720h720v720H120Zm60-500h600v-160H180v160Zm220 220h160v-160H400v160Zm0 220h160v-160H400v160ZM180-400h160v-160H180v160Zm440 0h160v-160H620v160ZM180-180h160v-160H180v160Zm440 0h160v-160H620v160Z\"/>\n",
              "  </svg>\n",
              "    </button>\n",
              "\n",
              "  <style>\n",
              "    .colab-df-container {\n",
              "      display:flex;\n",
              "      gap: 12px;\n",
              "    }\n",
              "\n",
              "    .colab-df-convert {\n",
              "      background-color: #E8F0FE;\n",
              "      border: none;\n",
              "      border-radius: 50%;\n",
              "      cursor: pointer;\n",
              "      display: none;\n",
              "      fill: #1967D2;\n",
              "      height: 32px;\n",
              "      padding: 0 0 0 0;\n",
              "      width: 32px;\n",
              "    }\n",
              "\n",
              "    .colab-df-convert:hover {\n",
              "      background-color: #E2EBFA;\n",
              "      box-shadow: 0px 1px 2px rgba(60, 64, 67, 0.3), 0px 1px 3px 1px rgba(60, 64, 67, 0.15);\n",
              "      fill: #174EA6;\n",
              "    }\n",
              "\n",
              "    .colab-df-buttons div {\n",
              "      margin-bottom: 4px;\n",
              "    }\n",
              "\n",
              "    [theme=dark] .colab-df-convert {\n",
              "      background-color: #3B4455;\n",
              "      fill: #D2E3FC;\n",
              "    }\n",
              "\n",
              "    [theme=dark] .colab-df-convert:hover {\n",
              "      background-color: #434B5C;\n",
              "      box-shadow: 0px 1px 3px 1px rgba(0, 0, 0, 0.15);\n",
              "      filter: drop-shadow(0px 1px 2px rgba(0, 0, 0, 0.3));\n",
              "      fill: #FFFFFF;\n",
              "    }\n",
              "  </style>\n",
              "\n",
              "    <script>\n",
              "      const buttonEl =\n",
              "        document.querySelector('#df-8edc2ebf-7d3f-4e8b-b540-25742118f269 button.colab-df-convert');\n",
              "      buttonEl.style.display =\n",
              "        google.colab.kernel.accessAllowed ? 'block' : 'none';\n",
              "\n",
              "      async function convertToInteractive(key) {\n",
              "        const element = document.querySelector('#df-8edc2ebf-7d3f-4e8b-b540-25742118f269');\n",
              "        const dataTable =\n",
              "          await google.colab.kernel.invokeFunction('convertToInteractive',\n",
              "                                                    [key], {});\n",
              "        if (!dataTable) return;\n",
              "\n",
              "        const docLinkHtml = 'Like what you see? Visit the ' +\n",
              "          '<a target=\"_blank\" href=https://colab.research.google.com/notebooks/data_table.ipynb>data table notebook</a>'\n",
              "          + ' to learn more about interactive tables.';\n",
              "        element.innerHTML = '';\n",
              "        dataTable['output_type'] = 'display_data';\n",
              "        await google.colab.output.renderOutput(dataTable, element);\n",
              "        const docLink = document.createElement('div');\n",
              "        docLink.innerHTML = docLinkHtml;\n",
              "        element.appendChild(docLink);\n",
              "      }\n",
              "    </script>\n",
              "  </div>\n",
              "\n",
              "\n",
              "<div id=\"df-3fb3efe9-3ba6-4da0-b077-f4cdfe44c9a6\">\n",
              "  <button class=\"colab-df-quickchart\" onclick=\"quickchart('df-3fb3efe9-3ba6-4da0-b077-f4cdfe44c9a6')\"\n",
              "            title=\"Suggest charts\"\n",
              "            style=\"display:none;\">\n",
              "\n",
              "<svg xmlns=\"http://www.w3.org/2000/svg\" height=\"24px\"viewBox=\"0 0 24 24\"\n",
              "     width=\"24px\">\n",
              "    <g>\n",
              "        <path d=\"M19 3H5c-1.1 0-2 .9-2 2v14c0 1.1.9 2 2 2h14c1.1 0 2-.9 2-2V5c0-1.1-.9-2-2-2zM9 17H7v-7h2v7zm4 0h-2V7h2v10zm4 0h-2v-4h2v4z\"/>\n",
              "    </g>\n",
              "</svg>\n",
              "  </button>\n",
              "\n",
              "<style>\n",
              "  .colab-df-quickchart {\n",
              "      --bg-color: #E8F0FE;\n",
              "      --fill-color: #1967D2;\n",
              "      --hover-bg-color: #E2EBFA;\n",
              "      --hover-fill-color: #174EA6;\n",
              "      --disabled-fill-color: #AAA;\n",
              "      --disabled-bg-color: #DDD;\n",
              "  }\n",
              "\n",
              "  [theme=dark] .colab-df-quickchart {\n",
              "      --bg-color: #3B4455;\n",
              "      --fill-color: #D2E3FC;\n",
              "      --hover-bg-color: #434B5C;\n",
              "      --hover-fill-color: #FFFFFF;\n",
              "      --disabled-bg-color: #3B4455;\n",
              "      --disabled-fill-color: #666;\n",
              "  }\n",
              "\n",
              "  .colab-df-quickchart {\n",
              "    background-color: var(--bg-color);\n",
              "    border: none;\n",
              "    border-radius: 50%;\n",
              "    cursor: pointer;\n",
              "    display: none;\n",
              "    fill: var(--fill-color);\n",
              "    height: 32px;\n",
              "    padding: 0;\n",
              "    width: 32px;\n",
              "  }\n",
              "\n",
              "  .colab-df-quickchart:hover {\n",
              "    background-color: var(--hover-bg-color);\n",
              "    box-shadow: 0 1px 2px rgba(60, 64, 67, 0.3), 0 1px 3px 1px rgba(60, 64, 67, 0.15);\n",
              "    fill: var(--button-hover-fill-color);\n",
              "  }\n",
              "\n",
              "  .colab-df-quickchart-complete:disabled,\n",
              "  .colab-df-quickchart-complete:disabled:hover {\n",
              "    background-color: var(--disabled-bg-color);\n",
              "    fill: var(--disabled-fill-color);\n",
              "    box-shadow: none;\n",
              "  }\n",
              "\n",
              "  .colab-df-spinner {\n",
              "    border: 2px solid var(--fill-color);\n",
              "    border-color: transparent;\n",
              "    border-bottom-color: var(--fill-color);\n",
              "    animation:\n",
              "      spin 1s steps(1) infinite;\n",
              "  }\n",
              "\n",
              "  @keyframes spin {\n",
              "    0% {\n",
              "      border-color: transparent;\n",
              "      border-bottom-color: var(--fill-color);\n",
              "      border-left-color: var(--fill-color);\n",
              "    }\n",
              "    20% {\n",
              "      border-color: transparent;\n",
              "      border-left-color: var(--fill-color);\n",
              "      border-top-color: var(--fill-color);\n",
              "    }\n",
              "    30% {\n",
              "      border-color: transparent;\n",
              "      border-left-color: var(--fill-color);\n",
              "      border-top-color: var(--fill-color);\n",
              "      border-right-color: var(--fill-color);\n",
              "    }\n",
              "    40% {\n",
              "      border-color: transparent;\n",
              "      border-right-color: var(--fill-color);\n",
              "      border-top-color: var(--fill-color);\n",
              "    }\n",
              "    60% {\n",
              "      border-color: transparent;\n",
              "      border-right-color: var(--fill-color);\n",
              "    }\n",
              "    80% {\n",
              "      border-color: transparent;\n",
              "      border-right-color: var(--fill-color);\n",
              "      border-bottom-color: var(--fill-color);\n",
              "    }\n",
              "    90% {\n",
              "      border-color: transparent;\n",
              "      border-bottom-color: var(--fill-color);\n",
              "    }\n",
              "  }\n",
              "</style>\n",
              "\n",
              "  <script>\n",
              "    async function quickchart(key) {\n",
              "      const quickchartButtonEl =\n",
              "        document.querySelector('#' + key + ' button');\n",
              "      quickchartButtonEl.disabled = true;  // To prevent multiple clicks.\n",
              "      quickchartButtonEl.classList.add('colab-df-spinner');\n",
              "      try {\n",
              "        const charts = await google.colab.kernel.invokeFunction(\n",
              "            'suggestCharts', [key], {});\n",
              "      } catch (error) {\n",
              "        console.error('Error during call to suggestCharts:', error);\n",
              "      }\n",
              "      quickchartButtonEl.classList.remove('colab-df-spinner');\n",
              "      quickchartButtonEl.classList.add('colab-df-quickchart-complete');\n",
              "    }\n",
              "    (() => {\n",
              "      let quickchartButtonEl =\n",
              "        document.querySelector('#df-3fb3efe9-3ba6-4da0-b077-f4cdfe44c9a6 button');\n",
              "      quickchartButtonEl.style.display =\n",
              "        google.colab.kernel.accessAllowed ? 'block' : 'none';\n",
              "    })();\n",
              "  </script>\n",
              "</div>\n",
              "    </div>\n",
              "  </div>\n"
            ]
          },
          "metadata": {},
          "execution_count": 8
        }
      ]
    },
    {
      "cell_type": "code",
      "source": [
        "df.info()"
      ],
      "metadata": {
        "colab": {
          "base_uri": "https://localhost:8080/"
        },
        "id": "rTKY44pvO3T8",
        "outputId": "af1b033c-cb10-4d21-8ff2-81d52051c3f5"
      },
      "execution_count": 12,
      "outputs": [
        {
          "output_type": "stream",
          "name": "stdout",
          "text": [
            "<class 'pandas.core.frame.DataFrame'>\n",
            "RangeIndex: 9835 entries, 0 to 9834\n",
            "Data columns (total 33 columns):\n",
            " #   Column   Non-Null Count  Dtype \n",
            "---  ------   --------------  ----- \n",
            " 0   Item(s)  9835 non-null   int64 \n",
            " 1   Item 1   9835 non-null   object\n",
            " 2   Item 2   7676 non-null   object\n",
            " 3   Item 3   6033 non-null   object\n",
            " 4   Item 4   4734 non-null   object\n",
            " 5   Item 5   3729 non-null   object\n",
            " 6   Item 6   2874 non-null   object\n",
            " 7   Item 7   2229 non-null   object\n",
            " 8   Item 8   1684 non-null   object\n",
            " 9   Item 9   1246 non-null   object\n",
            " 10  Item 10  896 non-null    object\n",
            " 11  Item 11  650 non-null    object\n",
            " 12  Item 12  468 non-null    object\n",
            " 13  Item 13  351 non-null    object\n",
            " 14  Item 14  273 non-null    object\n",
            " 15  Item 15  196 non-null    object\n",
            " 16  Item 16  141 non-null    object\n",
            " 17  Item 17  95 non-null     object\n",
            " 18  Item 18  66 non-null     object\n",
            " 19  Item 19  52 non-null     object\n",
            " 20  Item 20  38 non-null     object\n",
            " 21  Item 21  29 non-null     object\n",
            " 22  Item 22  18 non-null     object\n",
            " 23  Item 23  14 non-null     object\n",
            " 24  Item 24  8 non-null      object\n",
            " 25  Item 25  7 non-null      object\n",
            " 26  Item 26  7 non-null      object\n",
            " 27  Item 27  6 non-null      object\n",
            " 28  Item 28  5 non-null      object\n",
            " 29  Item 29  4 non-null      object\n",
            " 30  Item 30  1 non-null      object\n",
            " 31  Item 31  1 non-null      object\n",
            " 32  Item 32  1 non-null      object\n",
            "dtypes: int64(1), object(32)\n",
            "memory usage: 2.5+ MB\n"
          ]
        },
        {
          "output_type": "stream",
          "name": "stderr",
          "text": [
            "/usr/local/lib/python3.10/dist-packages/ipykernel/ipkernel.py:283: DeprecationWarning: `should_run_async` will not call `transform_cell` automatically in the future. Please pass the result to `transformed_cell` argument and any exception that happen during thetransform in `preprocessing_exc_tuple` in IPython 7.17 and above.\n",
            "  and should_run_async(code)\n"
          ]
        }
      ]
    },
    {
      "cell_type": "code",
      "source": [
        "df.isnull().sum()"
      ],
      "metadata": {
        "colab": {
          "base_uri": "https://localhost:8080/"
        },
        "id": "rYQ7QXkIO5mp",
        "outputId": "8dffa788-fb0e-4c73-fc08-bc2ea84f193a"
      },
      "execution_count": 13,
      "outputs": [
        {
          "output_type": "stream",
          "name": "stderr",
          "text": [
            "/usr/local/lib/python3.10/dist-packages/ipykernel/ipkernel.py:283: DeprecationWarning: `should_run_async` will not call `transform_cell` automatically in the future. Please pass the result to `transformed_cell` argument and any exception that happen during thetransform in `preprocessing_exc_tuple` in IPython 7.17 and above.\n",
            "  and should_run_async(code)\n"
          ]
        },
        {
          "output_type": "execute_result",
          "data": {
            "text/plain": [
              "Item(s)       0\n",
              "Item 1        0\n",
              "Item 2     2159\n",
              "Item 3     3802\n",
              "Item 4     5101\n",
              "Item 5     6106\n",
              "Item 6     6961\n",
              "Item 7     7606\n",
              "Item 8     8151\n",
              "Item 9     8589\n",
              "Item 10    8939\n",
              "Item 11    9185\n",
              "Item 12    9367\n",
              "Item 13    9484\n",
              "Item 14    9562\n",
              "Item 15    9639\n",
              "Item 16    9694\n",
              "Item 17    9740\n",
              "Item 18    9769\n",
              "Item 19    9783\n",
              "Item 20    9797\n",
              "Item 21    9806\n",
              "Item 22    9817\n",
              "Item 23    9821\n",
              "Item 24    9827\n",
              "Item 25    9828\n",
              "Item 26    9828\n",
              "Item 27    9829\n",
              "Item 28    9830\n",
              "Item 29    9831\n",
              "Item 30    9834\n",
              "Item 31    9834\n",
              "Item 32    9834\n",
              "dtype: int64"
            ]
          },
          "metadata": {},
          "execution_count": 13
        }
      ]
    },
    {
      "cell_type": "markdown",
      "source": [
        "# EDA (minimal 5) dan Preprocessing"
      ],
      "metadata": {
        "id": "CQB7iLj7pCia"
      }
    },
    {
      "cell_type": "code",
      "source": [
        "plt.rcParams['figure.figsize']=20,7\n",
        "sns.countplot(data=df, x=df['Item 1'],\n",
        "             order = df['Item 1'].value_counts().head(20).index,\n",
        "             palette='cool')\n",
        "plt.xticks(rotation=90)\n",
        "plt.xlabel('Product')\n",
        "plt.title('Top 20 frequently bought products')\n",
        "plt.show()"
      ],
      "metadata": {
        "colab": {
          "base_uri": "https://localhost:8080/",
          "height": 590
        },
        "id": "ep4bJFx7QXM0",
        "outputId": "1fe65d6c-5ec6-43ab-d192-4663fc1f6f17"
      },
      "execution_count": 25,
      "outputs": [
        {
          "output_type": "stream",
          "name": "stderr",
          "text": [
            "/usr/local/lib/python3.10/dist-packages/ipykernel/ipkernel.py:283: DeprecationWarning: `should_run_async` will not call `transform_cell` automatically in the future. Please pass the result to `transformed_cell` argument and any exception that happen during thetransform in `preprocessing_exc_tuple` in IPython 7.17 and above.\n",
            "  and should_run_async(code)\n"
          ]
        },
        {
          "output_type": "display_data",
          "data": {
            "text/plain": [
              "<Figure size 2000x700 with 1 Axes>"
            ],
            "image/png": "[encoded data removed]"
          },
          "metadata": {}
        }
      ]
    },
    {
      "cell_type": "code",
      "source": [
        "num_non_missing_per_transaction = df.iloc[:, 1:33].count(axis=1)\n",
        "\n",
        "num_items_per_transaction = df[\"Item(s)\"]\n",
        "\n",
        "is_complete_transaction = (num_non_missing_per_transaction == num_items_per_transaction)\n",
        "\n",
        "num_rows_with_missing_values = (~is_complete_transaction).sum()\n",
        "\n",
        "print(\"Number of Rows with Missing Values (Mismatch in Number of Items):\", num_rows_with_missing_values)"
      ],
      "metadata": {
        "id": "ZbsPUmB3o3tz",
        "colab": {
          "base_uri": "https://localhost:8080/"
        },
        "outputId": "94d49010-8eee-45a8-fc9d-5f8b90fdbab8"
      },
      "execution_count": 10,
      "outputs": [
        {
          "output_type": "stream",
          "name": "stdout",
          "text": [
            "Number of Rows with Missing Values (Mismatch in Number of Items): 0\n"
          ]
        },
        {
          "output_type": "stream",
          "name": "stderr",
          "text": [
            "/usr/local/lib/python3.10/dist-packages/ipykernel/ipkernel.py:283: DeprecationWarning: `should_run_async` will not call `transform_cell` automatically in the future. Please pass the result to `transformed_cell` argument and any exception that happen during thetransform in `preprocessing_exc_tuple` in IPython 7.17 and above.\n",
            "  and should_run_async(code)\n"
          ]
        }
      ]
    },
    {
      "cell_type": "code",
      "source": [
        "plt.figure(figsize=(8, 6))\n",
        "\n",
        "plt.boxplot(num_items_per_transaction, vert=False, patch_artist=True)\n",
        "\n",
        "plt.title(\"Distribution of Transaction Sizes\")\n",
        "plt.xlabel(\"Number of Items\")\n",
        "plt.grid(axis=\"x\")\n",
        "plt.yticks([])\n",
        "plt.tight_layout()\n",
        "\n",
        "plt.show()"
      ],
      "metadata": {
        "id": "ZrlnjFKIo43D",
        "colab": {
          "base_uri": "https://localhost:8080/",
          "height": 662
        },
        "outputId": "ac1ee80a-77d1-4364-8544-30fd29c39a58"
      },
      "execution_count": 11,
      "outputs": [
        {
          "output_type": "stream",
          "name": "stderr",
          "text": [
            "/usr/local/lib/python3.10/dist-packages/ipykernel/ipkernel.py:283: DeprecationWarning: `should_run_async` will not call `transform_cell` automatically in the future. Please pass the result to `transformed_cell` argument and any exception that happen during thetransform in `preprocessing_exc_tuple` in IPython 7.17 and above.\n",
            "  and should_run_async(code)\n"
          ]
        },
        {
          "output_type": "display_data",
          "data": {
            "text/plain": [
              "<Figure size 800x600 with 1 Axes>"
            ],
            "image/png": "[encoded data removed]"
          },
          "metadata": {}
        }
      ]
    },
    {
      "cell_type": "code",
      "source": [
        "min_size = min(num_items_per_transaction)\n",
        "max_size = max(num_items_per_transaction)\n",
        "\n",
        "bins = list(range(min_size, max_size + 2))\n",
        "\n",
        "plt.hist(num_items_per_transaction, bins=bins, edgecolor=\"black\", align=\"left\", rwidth=0.8)\n",
        "plt.title(\"Transaction Size Distribution\")\n",
        "plt.xlabel(\"Number of Items in Transaction\")\n",
        "plt.ylabel(\"Frequency\")\n",
        "\n",
        "item_count = df[\"Item(s)\"].value_counts()\n",
        "total_transactions = len(df[\"Item(s)\"])\n",
        "percentage_item_purchases = (item_count / total_transactions) * 100\n",
        "\n",
        "height_first_bar = plt.gca().patches[0].get_height()\n",
        "\n",
        "plt.annotate(f\"{round(percentage_item_purchases[1])}%\",\n",
        "             xy=(bins[0] + 0.5, height_first_bar),\n",
        "             xytext=(0, 3),\n",
        "             textcoords=\"offset points\",\n",
        "             ha='center',\n",
        "             fontsize=10)\n",
        "\n",
        "plt.show()"
      ],
      "metadata": {
        "id": "VI3azFNvpNVA",
        "colab": {
          "base_uri": "https://localhost:8080/",
          "height": 527
        },
        "outputId": "8842e0bc-07c7-49dc-c50d-c201485d3d82"
      },
      "execution_count": 15,
      "outputs": [
        {
          "output_type": "stream",
          "name": "stderr",
          "text": [
            "/usr/local/lib/python3.10/dist-packages/ipykernel/ipkernel.py:283: DeprecationWarning: `should_run_async` will not call `transform_cell` automatically in the future. Please pass the result to `transformed_cell` argument and any exception that happen during thetransform in `preprocessing_exc_tuple` in IPython 7.17 and above.\n",
            "  and should_run_async(code)\n"
          ]
        },
        {
          "output_type": "display_data",
          "data": {
            "text/plain": [
              "<Figure size 640x480 with 1 Axes>"
            ],
            "image/png": "[encoded data removed]"
          },
          "metadata": {}
        }
      ]
    },
    {
      "cell_type": "code",
      "source": [
        "item_counts = df.iloc[:, 1:].stack().value_counts()\n",
        "\n",
        "sorted_items_desc = item_counts.sort_values(ascending=False)\n",
        "\n",
        "top_10_items = sorted_items_desc.head(10)\n",
        "\n",
        "plt.figure(figsize=(10, 6))\n",
        "\n",
        "bar_color = \"#9AC2C5\"\n",
        "\n",
        "bars = plt.barh(range(len(top_10_items)), top_10_items.values, color=bar_color)\n",
        "\n",
        "plt.yticks(range(len(top_10_items)), top_10_items.index)\n",
        "\n",
        "plt.gca().invert_yaxis()\n",
        "\n",
        "plt.gca().spines[\"right\"].set_visible(False)\n",
        "plt.gca().spines[\"top\"].set_visible(False)\n",
        "plt.gca().spines[\"bottom\"].set_visible(False)\n",
        "\n",
        "\n",
        "plt.tick_params(axis=\"x\", which=\"both\", bottom=False, labelbottom=False)\n",
        "\n",
        "for index, value in enumerate(top_10_items.values):\n",
        "    plt.text(value + 5, index, str(value), ha=\"left\", va=\"center\")\n",
        "\n",
        "\n",
        "plt.grid(False)\n",
        "\n",
        "plt.ylabel(\"\")\n",
        "plt.xlabel(\"\")\n",
        "\n",
        "plt.title(\"Top 10 Most Frequent Items\")\n",
        "\n",
        "plt.tight_layout()\n",
        "plt.show()"
      ],
      "metadata": {
        "id": "ZxTuJfrEpOsV",
        "colab": {
          "base_uri": "https://localhost:8080/",
          "height": 662
        },
        "outputId": "0e79fc4e-a81d-4f86-df2d-3d629f0bb97f"
      },
      "execution_count": 17,
      "outputs": [
        {
          "output_type": "stream",
          "name": "stderr",
          "text": [
            "/usr/local/lib/python3.10/dist-packages/ipykernel/ipkernel.py:283: DeprecationWarning: `should_run_async` will not call `transform_cell` automatically in the future. Please pass the result to `transformed_cell` argument and any exception that happen during thetransform in `preprocessing_exc_tuple` in IPython 7.17 and above.\n",
            "  and should_run_async(code)\n"
          ]
        },
        {
          "output_type": "display_data",
          "data": {
            "text/plain": [
              "<Figure size 1000x600 with 1 Axes>"
            ],
            "image/png": "[encoded data removed]"
          },
          "metadata": {}
        }
      ]
    },
    {
      "cell_type": "code",
      "source": [
        "item_columns = df.columns[1:33]\n",
        "\n",
        "standalone_purchases = df[df[\"Item(s)\"] == 1][item_columns]\n",
        "\n",
        "standalone_item_counts = standalone_purchases.stack().value_counts()\n",
        "top_standalone_items = standalone_item_counts.head(5)\n",
        "\n",
        "plt.figure(figsize=(10, 6))\n",
        "\n",
        "\n",
        "bar_color = \"#7EB5D6\"\n",
        "\n",
        "plt.barh(top_standalone_items.index, top_standalone_items.values, color=bar_color, height=0.5)\n",
        "\n",
        "plt.ylabel(\"\")\n",
        "plt.xlabel(\"\")\n",
        "\n",
        "plt.title(\"Top 5 Most Frequent Standalone Items\")\n",
        "\n",
        "\n",
        "for index, value in enumerate(top_standalone_items.values):\n",
        "    plt.text(value, index, str(value), ha=\"left\", va=\"center\", color=\"black\")\n",
        "\n",
        "plt.gca().invert_yaxis()\n",
        "\n",
        "plt.tick_params(axis=\"x\", which=\"both\", bottom=False, labelbottom=False)\n",
        "\n",
        "plt.grid(False)\n",
        "\n",
        "plt.gca().spines[\"right\"].set_visible(False)\n",
        "plt.gca().spines[\"top\"].set_visible(False)\n",
        "plt.gca().spines[\"bottom\"].set_visible(False)\n",
        "\n",
        "plt.tight_layout()\n",
        "\n",
        "plt.show()"
      ],
      "metadata": {
        "id": "qQ_8vlPwpPfg",
        "colab": {
          "base_uri": "https://localhost:8080/",
          "height": 662
        },
        "outputId": "75bbc838-064f-49c1-f980-0013ea313897"
      },
      "execution_count": 18,
      "outputs": [
        {
          "output_type": "stream",
          "name": "stderr",
          "text": [
            "/usr/local/lib/python3.10/dist-packages/ipykernel/ipkernel.py:283: DeprecationWarning: `should_run_async` will not call `transform_cell` automatically in the future. Please pass the result to `transformed_cell` argument and any exception that happen during thetransform in `preprocessing_exc_tuple` in IPython 7.17 and above.\n",
            "  and should_run_async(code)\n"
          ]
        },
        {
          "output_type": "display_data",
          "data": {
            "text/plain": [
              "<Figure size 1000x600 with 1 Axes>"
            ],
            "image/png": "[encoded data removed]"
          },
          "metadata": {}
        }
      ]
    },
    {
      "cell_type": "markdown",
      "source": [
        "# modeling"
      ],
      "metadata": {
        "id": "NiE9EBMlp1k4"
      }
    },
    {
      "cell_type": "code",
      "source": [
        "item_columns = df.columns[1:33]\n",
        "\n",
        "transactions = df[item_columns].apply(lambda row: row.dropna().tolist(), axis=1).tolist()\n",
        "\n",
        "onehot_transactions = pd.DataFrame(transactions)\n",
        "\n",
        "onehot_encoded = pd.get_dummies(onehot_transactions.unstack()).groupby(level=1).max()"
      ],
      "metadata": {
        "id": "ikj8NIlRqAZ0",
        "colab": {
          "base_uri": "https://localhost:8080/"
        },
        "outputId": "ecbfed6e-2d00-4af6-8c49-931283c23221"
      },
      "execution_count": 27,
      "outputs": [
        {
          "output_type": "stream",
          "name": "stderr",
          "text": [
            "/usr/local/lib/python3.10/dist-packages/ipykernel/ipkernel.py:283: DeprecationWarning: `should_run_async` will not call `transform_cell` automatically in the future. Please pass the result to `transformed_cell` argument and any exception that happen during thetransform in `preprocessing_exc_tuple` in IPython 7.17 and above.\n",
            "  and should_run_async(code)\n"
          ]
        }
      ]
    },
    {
      "cell_type": "code",
      "source": [
        "min_support_values = [0.07, 0.05, 0.03, 0.02]\n",
        "\n",
        "confidence_levels = list(np.arange(0.05, 1.05, 0.05))\n",
        "\n",
        "num_rules_lists = []\n",
        "\n",
        "for min_support in min_support_values:\n",
        "    frequent_itemsets = apriori(onehot_encoded, min_support=min_support, use_colnames=True)\n",
        "    rules_list = []\n",
        "    for confidence_level in confidence_levels:\n",
        "        rules = association_rules(frequent_itemsets, metric=\"confidence\", min_threshold=confidence_level)\n",
        "        num_rules = len(rules)\n",
        "        rules_list.append(num_rules)\n",
        "    num_rules_lists.append(rules_list)\n",
        "\n",
        "plt.figure(figsize=(10, 6))\n",
        "\n",
        "colors = [\"#4e79a7\", \"#f28e2b\", \"#e15759\", \"#76b7b2\"]\n",
        "\n",
        "for i, min_support in enumerate(min_support_values):\n",
        "    plt.plot(confidence_levels, num_rules_lists[i], marker=\"o\", color=colors[i], label=f\"Min Support: {min_support}\")\n",
        "\n",
        "plt.xlabel(\"Confidence Level\")\n",
        "plt.ylabel(\"Number of Rules\")\n",
        "plt.title(\"Number of Rules vs. Confidence Level for Different Minimum Support\")\n",
        "\n",
        "plt.xticks([0.10, 0.20, 0.30, 0.40, 0.50, 0.60, 0.70, 0.80, 0.90, 1])\n",
        "\n",
        "plt.grid(True, linestyle=\"--\", alpha=0.7)\n",
        "\n",
        "plt.legend()\n",
        "plt.show()"
      ],
      "metadata": {
        "id": "72GU86IxqBi9",
        "colab": {
          "base_uri": "https://localhost:8080/",
          "height": 758
        },
        "outputId": "69107538-4a6f-4cdb-82c5-7cb805eecfef"
      },
      "execution_count": 28,
      "outputs": [
        {
          "output_type": "stream",
          "name": "stderr",
          "text": [
            "/usr/local/lib/python3.10/dist-packages/ipykernel/ipkernel.py:283: DeprecationWarning: `should_run_async` will not call `transform_cell` automatically in the future. Please pass the result to `transformed_cell` argument and any exception that happen during thetransform in `preprocessing_exc_tuple` in IPython 7.17 and above.\n",
            "  and should_run_async(code)\n",
            "/usr/local/lib/python3.10/dist-packages/mlxtend/frequent_patterns/fpcommon.py:110: DeprecationWarning: DataFrames with non-bool types result in worse computationalperformance and their support might be discontinued in the future.Please use a DataFrame with bool type\n",
            "  warnings.warn(\n",
            "/usr/local/lib/python3.10/dist-packages/mlxtend/frequent_patterns/fpcommon.py:110: DeprecationWarning: DataFrames with non-bool types result in worse computationalperformance and their support might be discontinued in the future.Please use a DataFrame with bool type\n",
            "  warnings.warn(\n",
            "/usr/local/lib/python3.10/dist-packages/mlxtend/frequent_patterns/fpcommon.py:110: DeprecationWarning: DataFrames with non-bool types result in worse computationalperformance and their support might be discontinued in the future.Please use a DataFrame with bool type\n",
            "  warnings.warn(\n",
            "/usr/local/lib/python3.10/dist-packages/mlxtend/frequent_patterns/fpcommon.py:110: DeprecationWarning: DataFrames with non-bool types result in worse computationalperformance and their support might be discontinued in the future.Please use a DataFrame with bool type\n",
            "  warnings.warn(\n"
          ]
        },
        {
          "output_type": "display_data",
          "data": {
            "text/plain": [
              "<Figure size 1000x600 with 1 Axes>"
            ],
            "image/png": "[encoded data removed]"
          },
          "metadata": {}
        }
      ]
    },
    {
      "cell_type": "code",
      "source": [
        "frequent_itemsets = apriori(onehot_encoded, min_support=0.03, use_colnames=True)\n",
        "\n",
        "sorted_frequent_itemsets = frequent_itemsets.sort_values(by=\"support\", ascending=False).reset_index(drop=True)\n",
        "\n",
        "sorted_frequent_itemsets[\"length\"] = sorted_frequent_itemsets[\"itemsets\"].apply(len)\n",
        "\n",
        "with pd.option_context(\"display.max_rows\", None,\n",
        "                       \"display.max_columns\", None,\n",
        "                       \"display.precision\", 3,\n",
        "                       ):\n",
        "  print(sorted_frequent_itemsets)"
      ],
      "metadata": {
        "id": "fbpn7MHiqCV6",
        "colab": {
          "base_uri": "https://localhost:8080/"
        },
        "outputId": "58108d99-3700-4d80-9ce4-75811053247a"
      },
      "execution_count": 30,
      "outputs": [
        {
          "output_type": "stream",
          "name": "stdout",
          "text": [
            "    support                             itemsets  length\n",
            "0     0.256                         (whole milk)       1\n",
            "1     0.193                   (other vegetables)       1\n",
            "2     0.184                         (rolls/buns)       1\n",
            "3     0.174                               (soda)       1\n",
            "4     0.140                             (yogurt)       1\n",
            "5     0.111                      (bottled water)       1\n",
            "6     0.109                    (root vegetables)       1\n",
            "7     0.105                     (tropical fruit)       1\n",
            "8     0.099                      (shopping bags)       1\n",
            "9     0.094                            (sausage)       1\n",
            "10    0.089                             (pastry)       1\n",
            "11    0.083                       (citrus fruit)       1\n",
            "12    0.081                       (bottled beer)       1\n",
            "13    0.080                         (newspapers)       1\n",
            "14    0.078                        (canned beer)       1\n",
            "15    0.076                          (pip fruit)       1\n",
            "16    0.075       (other vegetables, whole milk)       2\n",
            "17    0.072              (fruit/vegetable juice)       1\n",
            "18    0.072                 (whipped/sour cream)       1\n",
            "19    0.065                        (brown bread)       1\n",
            "20    0.063                      (domestic eggs)       1\n",
            "21    0.059                        (frankfurter)       1\n",
            "22    0.059                          (margarine)       1\n",
            "23    0.058                             (coffee)       1\n",
            "24    0.058                               (pork)       1\n",
            "25    0.057             (whole milk, rolls/buns)       2\n",
            "26    0.056                 (whole milk, yogurt)       2\n",
            "27    0.055                             (butter)       1\n",
            "28    0.053                               (curd)       1\n",
            "29    0.052                               (beef)       1\n",
            "30    0.052                            (napkins)       1\n",
            "31    0.050                          (chocolate)       1\n",
            "32    0.049        (root vegetables, whole milk)       2\n",
            "33    0.048                  (frozen vegetables)       1\n",
            "34    0.047  (root vegetables, other vegetables)       2\n",
            "35    0.043           (other vegetables, yogurt)       2\n",
            "36    0.043                            (chicken)       1\n",
            "37    0.043       (other vegetables, rolls/buns)       2\n",
            "38    0.042         (whole milk, tropical fruit)       2\n",
            "39    0.042                        (white bread)       1\n",
            "40    0.040                   (soda, whole milk)       2\n",
            "41    0.040                       (cream cheese)       1\n",
            "42    0.038                            (waffles)       1\n",
            "43    0.038                   (soda, rolls/buns)       2\n",
            "44    0.038                        (salty snack)       1\n",
            "45    0.037           (long life bakery product)       1\n",
            "46    0.037                            (dessert)       1\n",
            "47    0.036   (other vegetables, tropical fruit)       2\n",
            "48    0.034                 (rolls/buns, yogurt)       2\n",
            "49    0.034          (whole milk, bottled water)       2\n",
            "50    0.034                              (sugar)       1\n",
            "51    0.033                           (UHT-milk)       1\n",
            "52    0.033                 (pastry, whole milk)       2\n",
            "53    0.033                     (hamburger meat)       1\n",
            "54    0.033                            (berries)       1\n",
            "55    0.033                   (hygiene articles)       1\n",
            "56    0.033             (other vegetables, soda)       2\n",
            "57    0.032     (whipped/sour cream, whole milk)       2\n",
            "58    0.031                             (onions)       1\n",
            "59    0.031                (rolls/buns, sausage)       2\n",
            "60    0.031           (citrus fruit, whole milk)       2\n",
            "61    0.030                (specialty chocolate)       1\n",
            "62    0.030              (whole milk, pip fruit)       2\n"
          ]
        },
        {
          "output_type": "stream",
          "name": "stderr",
          "text": [
            "/usr/local/lib/python3.10/dist-packages/ipykernel/ipkernel.py:283: DeprecationWarning: `should_run_async` will not call `transform_cell` automatically in the future. Please pass the result to `transformed_cell` argument and any exception that happen during thetransform in `preprocessing_exc_tuple` in IPython 7.17 and above.\n",
            "  and should_run_async(code)\n",
            "/usr/local/lib/python3.10/dist-packages/mlxtend/frequent_patterns/fpcommon.py:110: DeprecationWarning: DataFrames with non-bool types result in worse computationalperformance and their support might be discontinued in the future.Please use a DataFrame with bool type\n",
            "  warnings.warn(\n"
          ]
        }
      ]
    },
    {
      "cell_type": "markdown",
      "source": [
        "# Visualisasi hasil algoritma"
      ],
      "metadata": {
        "id": "D3O6NAxqqPz_"
      }
    },
    {
      "cell_type": "code",
      "source": [
        "association_rules_df = association_rules(frequent_itemsets, metric=\"confidence\", min_threshold=0.3)\n",
        "\n",
        "sorted_association_rules = association_rules_df.sort_values(by=\"lift\", ascending=False).reset_index(drop=True)\n",
        "\n",
        "print(\"\\nAssociation Rules:\")\n",
        "sorted_association_rules"
      ],
      "metadata": {
        "id": "-pofqtKGqVkc",
        "colab": {
          "base_uri": "https://localhost:8080/",
          "height": 664
        },
        "outputId": "e6a6a4bc-6204-4abe-fd4e-676089b55081"
      },
      "execution_count": 32,
      "outputs": [
        {
          "output_type": "stream",
          "name": "stdout",
          "text": [
            "\n",
            "Association Rules:\n"
          ]
        },
        {
          "output_type": "stream",
          "name": "stderr",
          "text": [
            "/usr/local/lib/python3.10/dist-packages/ipykernel/ipkernel.py:283: DeprecationWarning: `should_run_async` will not call `transform_cell` automatically in the future. Please pass the result to `transformed_cell` argument and any exception that happen during thetransform in `preprocessing_exc_tuple` in IPython 7.17 and above.\n",
            "  and should_run_async(code)\n"
          ]
        },
        {
          "output_type": "execute_result",
          "data": {
            "text/plain": [
              "             antecedents         consequents  antecedent support  \\\n",
              "0      (root vegetables)  (other vegetables)            0.108998   \n",
              "1              (sausage)        (rolls/buns)            0.093950   \n",
              "2       (tropical fruit)  (other vegetables)            0.104931   \n",
              "3   (whipped/sour cream)        (whole milk)            0.071683   \n",
              "4      (root vegetables)        (whole milk)            0.108998   \n",
              "5               (yogurt)  (other vegetables)            0.139502   \n",
              "6       (tropical fruit)        (whole milk)            0.104931   \n",
              "7               (yogurt)        (whole milk)            0.139502   \n",
              "8            (pip fruit)        (whole milk)            0.075648   \n",
              "9     (other vegetables)        (whole milk)            0.193493   \n",
              "10              (pastry)        (whole milk)            0.088968   \n",
              "11        (citrus fruit)        (whole milk)            0.082766   \n",
              "12       (bottled water)        (whole milk)            0.110524   \n",
              "13          (rolls/buns)        (whole milk)            0.183935   \n",
              "\n",
              "    consequent support   support  confidence      lift  leverage  conviction  \\\n",
              "0             0.193493  0.047382    0.434701  2.246605  0.026291    1.426693   \n",
              "1             0.183935  0.030605    0.325758  1.771048  0.013324    1.210344   \n",
              "2             0.193493  0.035892    0.342054  1.767790  0.015589    1.225796   \n",
              "3             0.255516  0.032232    0.449645  1.759754  0.013916    1.352735   \n",
              "4             0.255516  0.048907    0.448694  1.756031  0.021056    1.350401   \n",
              "5             0.193493  0.043416    0.311224  1.608457  0.016424    1.170929   \n",
              "6             0.255516  0.042298    0.403101  1.577595  0.015486    1.247252   \n",
              "7             0.255516  0.056024    0.401603  1.571735  0.020379    1.244132   \n",
              "8             0.255516  0.030097    0.397849  1.557043  0.010767    1.236375   \n",
              "9             0.255516  0.074835    0.386758  1.513634  0.025394    1.214013   \n",
              "10            0.255516  0.033249    0.373714  1.462587  0.010516    1.188729   \n",
              "11            0.255516  0.030503    0.368550  1.442377  0.009355    1.179008   \n",
              "12            0.255516  0.034367    0.310948  1.216940  0.006126    1.080446   \n",
              "13            0.255516  0.056634    0.307905  1.205032  0.009636    1.075696   \n",
              "\n",
              "    zhangs_metric  \n",
              "0        0.622764  \n",
              "1        0.480506  \n",
              "2        0.485239  \n",
              "3        0.465077  \n",
              "4        0.483202  \n",
              "5        0.439613  \n",
              "6        0.409045  \n",
              "7        0.422732  \n",
              "8        0.387036  \n",
              "9        0.420750  \n",
              "10       0.347166  \n",
              "11       0.334375  \n",
              "12       0.200417  \n",
              "13       0.208496  "
            ],
            "text/html": [
              "\n",
              "  <div id=\"df-4f1ab438-d211-4190-b496-34af74241de0\" class=\"colab-df-container\">\n",
              "    <div>\n",
              "<style scoped>\n",
              "    .dataframe tbody tr th:only-of-type {\n",
              "        vertical-align: middle;\n",
              "    }\n",
              "\n",
              "    .dataframe tbody tr th {\n",
              "        vertical-align: top;\n",
              "    }\n",
              "\n",
              "    .dataframe thead th {\n",
              "        text-align: right;\n",
              "    }\n",
              "</style>\n",
              "<table border=\"1\" class=\"dataframe\">\n",
              "  <thead>\n",
              "    <tr style=\"text-align: right;\">\n",
              "      <th></th>\n",
              "      <th>antecedents</th>\n",
              "      <th>consequents</th>\n",
              "      <th>antecedent support</th>\n",
              "      <th>consequent support</th>\n",
              "      <th>support</th>\n",
              "      <th>confidence</th>\n",
              "      <th>lift</th>\n",
              "      <th>leverage</th>\n",
              "      <th>conviction</th>\n",
              "      <th>zhangs_metric</th>\n",
              "    </tr>\n",
              "  </thead>\n",
              "  <tbody>\n",
              "    <tr>\n",
              "      <th>0</th>\n",
              "      <td>(root vegetables)</td>\n",
              "      <td>(other vegetables)</td>\n",
              "      <td>0.108998</td>\n",
              "      <td>0.193493</td>\n",
              "      <td>0.047382</td>\n",
              "      <td>0.434701</td>\n",
              "      <td>2.246605</td>\n",
              "      <td>0.026291</td>\n",
              "      <td>1.426693</td>\n",
              "      <td>0.622764</td>\n",
              "    </tr>\n",
              "    <tr>\n",
              "      <th>1</th>\n",
              "      <td>(sausage)</td>\n",
              "      <td>(rolls/buns)</td>\n",
              "      <td>0.093950</td>\n",
              "      <td>0.183935</td>\n",
              "      <td>0.030605</td>\n",
              "      <td>0.325758</td>\n",
              "      <td>1.771048</td>\n",
              "      <td>0.013324</td>\n",
              "      <td>1.210344</td>\n",
              "      <td>0.480506</td>\n",
              "    </tr>\n",
              "    <tr>\n",
              "      <th>2</th>\n",
              "      <td>(tropical fruit)</td>\n",
              "      <td>(other vegetables)</td>\n",
              "      <td>0.104931</td>\n",
              "      <td>0.193493</td>\n",
              "      <td>0.035892</td>\n",
              "      <td>0.342054</td>\n",
              "      <td>1.767790</td>\n",
              "      <td>0.015589</td>\n",
              "      <td>1.225796</td>\n",
              "      <td>0.485239</td>\n",
              "    </tr>\n",
              "    <tr>\n",
              "      <th>3</th>\n",
              "      <td>(whipped/sour cream)</td>\n",
              "      <td>(whole milk)</td>\n",
              "      <td>0.071683</td>\n",
              "      <td>0.255516</td>\n",
              "      <td>0.032232</td>\n",
              "      <td>0.449645</td>\n",
              "      <td>1.759754</td>\n",
              "      <td>0.013916</td>\n",
              "      <td>1.352735</td>\n",
              "      <td>0.465077</td>\n",
              "    </tr>\n",
              "    <tr>\n",
              "      <th>4</th>\n",
              "      <td>(root vegetables)</td>\n",
              "      <td>(whole milk)</td>\n",
              "      <td>0.108998</td>\n",
              "      <td>0.255516</td>\n",
              "      <td>0.048907</td>\n",
              "      <td>0.448694</td>\n",
              "      <td>1.756031</td>\n",
              "      <td>0.021056</td>\n",
              "      <td>1.350401</td>\n",
              "      <td>0.483202</td>\n",
              "    </tr>\n",
              "    <tr>\n",
              "      <th>5</th>\n",
              "      <td>(yogurt)</td>\n",
              "      <td>(other vegetables)</td>\n",
              "      <td>0.139502</td>\n",
              "      <td>0.193493</td>\n",
              "      <td>0.043416</td>\n",
              "      <td>0.311224</td>\n",
              "      <td>1.608457</td>\n",
              "      <td>0.016424</td>\n",
              "      <td>1.170929</td>\n",
              "      <td>0.439613</td>\n",
              "    </tr>\n",
              "    <tr>\n",
              "      <th>6</th>\n",
              "      <td>(tropical fruit)</td>\n",
              "      <td>(whole milk)</td>\n",
              "      <td>0.104931</td>\n",
              "      <td>0.255516</td>\n",
              "      <td>0.042298</td>\n",
              "      <td>0.403101</td>\n",
              "      <td>1.577595</td>\n",
              "      <td>0.015486</td>\n",
              "      <td>1.247252</td>\n",
              "      <td>0.409045</td>\n",
              "    </tr>\n",
              "    <tr>\n",
              "      <th>7</th>\n",
              "      <td>(yogurt)</td>\n",
              "      <td>(whole milk)</td>\n",
              "      <td>0.139502</td>\n",
              "      <td>0.255516</td>\n",
              "      <td>0.056024</td>\n",
              "      <td>0.401603</td>\n",
              "      <td>1.571735</td>\n",
              "      <td>0.020379</td>\n",
              "      <td>1.244132</td>\n",
              "      <td>0.422732</td>\n",
              "    </tr>\n",
              "    <tr>\n",
              "      <th>8</th>\n",
              "      <td>(pip fruit)</td>\n",
              "      <td>(whole milk)</td>\n",
              "      <td>0.075648</td>\n",
              "      <td>0.255516</td>\n",
              "      <td>0.030097</td>\n",
              "      <td>0.397849</td>\n",
              "      <td>1.557043</td>\n",
              "      <td>0.010767</td>\n",
              "      <td>1.236375</td>\n",
              "      <td>0.387036</td>\n",
              "    </tr>\n",
              "    <tr>\n",
              "      <th>9</th>\n",
              "      <td>(other vegetables)</td>\n",
              "      <td>(whole milk)</td>\n",
              "      <td>0.193493</td>\n",
              "      <td>0.255516</td>\n",
              "      <td>0.074835</td>\n",
              "      <td>0.386758</td>\n",
              "      <td>1.513634</td>\n",
              "      <td>0.025394</td>\n",
              "      <td>1.214013</td>\n",
              "      <td>0.420750</td>\n",
              "    </tr>\n",
              "    <tr>\n",
              "      <th>10</th>\n",
              "      <td>(pastry)</td>\n",
              "      <td>(whole milk)</td>\n",
              "      <td>0.088968</td>\n",
              "      <td>0.255516</td>\n",
              "      <td>0.033249</td>\n",
              "      <td>0.373714</td>\n",
              "      <td>1.462587</td>\n",
              "      <td>0.010516</td>\n",
              "      <td>1.188729</td>\n",
              "      <td>0.347166</td>\n",
              "    </tr>\n",
              "    <tr>\n",
              "      <th>11</th>\n",
              "      <td>(citrus fruit)</td>\n",
              "      <td>(whole milk)</td>\n",
              "      <td>0.082766</td>\n",
              "      <td>0.255516</td>\n",
              "      <td>0.030503</td>\n",
              "      <td>0.368550</td>\n",
              "      <td>1.442377</td>\n",
              "      <td>0.009355</td>\n",
              "      <td>1.179008</td>\n",
              "      <td>0.334375</td>\n",
              "    </tr>\n",
              "    <tr>\n",
              "      <th>12</th>\n",
              "      <td>(bottled water)</td>\n",
              "      <td>(whole milk)</td>\n",
              "      <td>0.110524</td>\n",
              "      <td>0.255516</td>\n",
              "      <td>0.034367</td>\n",
              "      <td>0.310948</td>\n",
              "      <td>1.216940</td>\n",
              "      <td>0.006126</td>\n",
              "      <td>1.080446</td>\n",
              "      <td>0.200417</td>\n",
              "    </tr>\n",
              "    <tr>\n",
              "      <th>13</th>\n",
              "      <td>(rolls/buns)</td>\n",
              "      <td>(whole milk)</td>\n",
              "      <td>0.183935</td>\n",
              "      <td>0.255516</td>\n",
              "      <td>0.056634</td>\n",
              "      <td>0.307905</td>\n",
              "      <td>1.205032</td>\n",
              "      <td>0.009636</td>\n",
              "      <td>1.075696</td>\n",
              "      <td>0.208496</td>\n",
              "    </tr>\n",
              "  </tbody>\n",
              "</table>\n",
              "</div>\n",
              "    <div class=\"colab-df-buttons\">\n",
              "\n",
              "  <div class=\"colab-df-container\">\n",
              "    <button class=\"colab-df-convert\" onclick=\"convertToInteractive('df-4f1ab438-d211-4190-b496-34af74241de0')\"\n",
              "            title=\"Convert this dataframe to an interactive table.\"\n",
              "            style=\"display:none;\">\n",
              "\n",
              "  <svg xmlns=\"http://www.w3.org/2000/svg\" height=\"24px\" viewBox=\"0 -960 960 960\">\n",
              "    <path d=\"M120-120v-720h720v720H120Zm60-500h600v-160H180v160Zm220 220h160v-160H400v160Zm0 220h160v-160H400v160ZM180-400h160v-160H180v160Zm440 0h160v-160H620v160ZM180-180h160v-160H180v160Zm440 0h160v-160H620v160Z\"/>\n",
              "  </svg>\n",
              "    </button>\n",
              "\n",
              "  <style>\n",
              "    .colab-df-container {\n",
              "      display:flex;\n",
              "      gap: 12px;\n",
              "    }\n",
              "\n",
              "    .colab-df-convert {\n",
              "      background-color: #E8F0FE;\n",
              "      border: none;\n",
              "      border-radius: 50%;\n",
              "      cursor: pointer;\n",
              "      display: none;\n",
              "      fill: #1967D2;\n",
              "      height: 32px;\n",
              "      padding: 0 0 0 0;\n",
              "      width: 32px;\n",
              "    }\n",
              "\n",
              "    .colab-df-convert:hover {\n",
              "      background-color: #E2EBFA;\n",
              "      box-shadow: 0px 1px 2px rgba(60, 64, 67, 0.3), 0px 1px 3px 1px rgba(60, 64, 67, 0.15);\n",
              "      fill: #174EA6;\n",
              "    }\n",
              "\n",
              "    .colab-df-buttons div {\n",
              "      margin-bottom: 4px;\n",
              "    }\n",
              "\n",
              "    [theme=dark] .colab-df-convert {\n",
              "      background-color: #3B4455;\n",
              "      fill: #D2E3FC;\n",
              "    }\n",
              "\n",
              "    [theme=dark] .colab-df-convert:hover {\n",
              "      background-color: #434B5C;\n",
              "      box-shadow: 0px 1px 3px 1px rgba(0, 0, 0, 0.15);\n",
              "      filter: drop-shadow(0px 1px 2px rgba(0, 0, 0, 0.3));\n",
              "      fill: #FFFFFF;\n",
              "    }\n",
              "  </style>\n",
              "\n",
              "    <script>\n",
              "      const buttonEl =\n",
              "        document.querySelector('#df-4f1ab438-d211-4190-b496-34af74241de0 button.colab-df-convert');\n",
              "      buttonEl.style.display =\n",
              "        google.colab.kernel.accessAllowed ? 'block' : 'none';\n",
              "\n",
              "      async function convertToInteractive(key) {\n",
              "        const element = document.querySelector('#df-4f1ab438-d211-4190-b496-34af74241de0');\n",
              "        const dataTable =\n",
              "          await google.colab.kernel.invokeFunction('convertToInteractive',\n",
              "                                                    [key], {});\n",
              "        if (!dataTable) return;\n",
              "\n",
              "        const docLinkHtml = 'Like what you see? Visit the ' +\n",
              "          '<a target=\"_blank\" href=https://colab.research.google.com/notebooks/data_table.ipynb>data table notebook</a>'\n",
              "          + ' to learn more about interactive tables.';\n",
              "        element.innerHTML = '';\n",
              "        dataTable['output_type'] = 'display_data';\n",
              "        await google.colab.output.renderOutput(dataTable, element);\n",
              "        const docLink = document.createElement('div');\n",
              "        docLink.innerHTML = docLinkHtml;\n",
              "        element.appendChild(docLink);\n",
              "      }\n",
              "    </script>\n",
              "  </div>\n",
              "\n",
              "\n",
              "<div id=\"df-9b4f2c5d-cde8-42e7-af7b-b86a4f2a34bf\">\n",
              "  <button class=\"colab-df-quickchart\" onclick=\"quickchart('df-9b4f2c5d-cde8-42e7-af7b-b86a4f2a34bf')\"\n",
              "            title=\"Suggest charts\"\n",
              "            style=\"display:none;\">\n",
              "\n",
              "<svg xmlns=\"http://www.w3.org/2000/svg\" height=\"24px\"viewBox=\"0 0 24 24\"\n",
              "     width=\"24px\">\n",
              "    <g>\n",
              "        <path d=\"M19 3H5c-1.1 0-2 .9-2 2v14c0 1.1.9 2 2 2h14c1.1 0 2-.9 2-2V5c0-1.1-.9-2-2-2zM9 17H7v-7h2v7zm4 0h-2V7h2v10zm4 0h-2v-4h2v4z\"/>\n",
              "    </g>\n",
              "</svg>\n",
              "  </button>\n",
              "\n",
              "<style>\n",
              "  .colab-df-quickchart {\n",
              "      --bg-color: #E8F0FE;\n",
              "      --fill-color: #1967D2;\n",
              "      --hover-bg-color: #E2EBFA;\n",
              "      --hover-fill-color: #174EA6;\n",
              "      --disabled-fill-color: #AAA;\n",
              "      --disabled-bg-color: #DDD;\n",
              "  }\n",
              "\n",
              "  [theme=dark] .colab-df-quickchart {\n",
              "      --bg-color: #3B4455;\n",
              "      --fill-color: #D2E3FC;\n",
              "      --hover-bg-color: #434B5C;\n",
              "      --hover-fill-color: #FFFFFF;\n",
              "      --disabled-bg-color: #3B4455;\n",
              "      --disabled-fill-color: #666;\n",
              "  }\n",
              "\n",
              "  .colab-df-quickchart {\n",
              "    background-color: var(--bg-color);\n",
              "    border: none;\n",
              "    border-radius: 50%;\n",
              "    cursor: pointer;\n",
              "    display: none;\n",
              "    fill: var(--fill-color);\n",
              "    height: 32px;\n",
              "    padding: 0;\n",
              "    width: 32px;\n",
              "  }\n",
              "\n",
              "  .colab-df-quickchart:hover {\n",
              "    background-color: var(--hover-bg-color);\n",
              "    box-shadow: 0 1px 2px rgba(60, 64, 67, 0.3), 0 1px 3px 1px rgba(60, 64, 67, 0.15);\n",
              "    fill: var(--button-hover-fill-color);\n",
              "  }\n",
              "\n",
              "  .colab-df-quickchart-complete:disabled,\n",
              "  .colab-df-quickchart-complete:disabled:hover {\n",
              "    background-color: var(--disabled-bg-color);\n",
              "    fill: var(--disabled-fill-color);\n",
              "    box-shadow: none;\n",
              "  }\n",
              "\n",
              "  .colab-df-spinner {\n",
              "    border: 2px solid var(--fill-color);\n",
              "    border-color: transparent;\n",
              "    border-bottom-color: var(--fill-color);\n",
              "    animation:\n",
              "      spin 1s steps(1) infinite;\n",
              "  }\n",
              "\n",
              "  @keyframes spin {\n",
              "    0% {\n",
              "      border-color: transparent;\n",
              "      border-bottom-color: var(--fill-color);\n",
              "      border-left-color: var(--fill-color);\n",
              "    }\n",
              "    20% {\n",
              "      border-color: transparent;\n",
              "      border-left-color: var(--fill-color);\n",
              "      border-top-color: var(--fill-color);\n",
              "    }\n",
              "    30% {\n",
              "      border-color: transparent;\n",
              "      border-left-color: var(--fill-color);\n",
              "      border-top-color: var(--fill-color);\n",
              "      border-right-color: var(--fill-color);\n",
              "    }\n",
              "    40% {\n",
              "      border-color: transparent;\n",
              "      border-right-color: var(--fill-color);\n",
              "      border-top-color: var(--fill-color);\n",
              "    }\n",
              "    60% {\n",
              "      border-color: transparent;\n",
              "      border-right-color: var(--fill-color);\n",
              "    }\n",
              "    80% {\n",
              "      border-color: transparent;\n",
              "      border-right-color: var(--fill-color);\n",
              "      border-bottom-color: var(--fill-color);\n",
              "    }\n",
              "    90% {\n",
              "      border-color: transparent;\n",
              "      border-bottom-color: var(--fill-color);\n",
              "    }\n",
              "  }\n",
              "</style>\n",
              "\n",
              "  <script>\n",
              "    async function quickchart(key) {\n",
              "      const quickchartButtonEl =\n",
              "        document.querySelector('#' + key + ' button');\n",
              "      quickchartButtonEl.disabled = true;  // To prevent multiple clicks.\n",
              "      quickchartButtonEl.classList.add('colab-df-spinner');\n",
              "      try {\n",
              "        const charts = await google.colab.kernel.invokeFunction(\n",
              "            'suggestCharts', [key], {});\n",
              "      } catch (error) {\n",
              "        console.error('Error during call to suggestCharts:', error);\n",
              "      }\n",
              "      quickchartButtonEl.classList.remove('colab-df-spinner');\n",
              "      quickchartButtonEl.classList.add('colab-df-quickchart-complete');\n",
              "    }\n",
              "    (() => {\n",
              "      let quickchartButtonEl =\n",
              "        document.querySelector('#df-9b4f2c5d-cde8-42e7-af7b-b86a4f2a34bf button');\n",
              "      quickchartButtonEl.style.display =\n",
              "        google.colab.kernel.accessAllowed ? 'block' : 'none';\n",
              "    })();\n",
              "  </script>\n",
              "</div>\n",
              "    </div>\n",
              "  </div>\n"
            ]
          },
          "metadata": {},
          "execution_count": 32
        }
      ]
    },
    {
      "cell_type": "markdown",
      "source": [
        "# save model (pickle)"
      ],
      "metadata": {
        "id": "Mrc-UA4lqfPl"
      }
    },
    {
      "cell_type": "code",
      "source": [
        "code 1"
      ],
      "metadata": {
        "id": "S4Ngi_B5qrbV"
      },
      "execution_count": null,
      "outputs": []
    },
    {
      "cell_type": "code",
      "source": [
        "code 2"
      ],
      "metadata": {
        "id": "WCq3YqM7qsef"
      },
      "execution_count": null,
      "outputs": []
    },
    {
      "cell_type": "code",
      "source": [
        "code 3"
      ],
      "metadata": {
        "id": "uOj7lVCrqtTs"
      },
      "execution_count": null,
      "outputs": []
    }
  ]
}